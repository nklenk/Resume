{
 "cells": [
  {
   "cell_type": "markdown",
   "metadata": {},
   "source": [
    "# Gradient Descent\n",
    "\n",
    "Creating a linear regression to explore gradient descent using sklearn\n",
    "Using infomation about PGA players didtance and accuracy which can be found in the \"Data\" folder. "
   ]
  },
  {
   "cell_type": "code",
   "execution_count": 1,
   "metadata": {
    "collapsed": true
   },
   "outputs": [],
   "source": [
    "from sklearn.linear_model import LinearRegression\n",
    "from matplotlib import pyplot as plt\n",
    "import numpy as np\n",
    "import pandas as pd\n",
    "\n",
    "pga = pd.read_csv(\"/Users/neilklenk/Documents/Datasets/pga.csv\")"
   ]
  },
  {
   "cell_type": "markdown",
   "metadata": {},
   "source": [
    "Normalizing the data, so that it is all on the same scale. "
   ]
  },
  {
   "cell_type": "code",
   "execution_count": 2,
   "metadata": {
    "collapsed": true
   },
   "outputs": [],
   "source": [
    "pga.distance = (pga.distance - pga.distance.mean())/pga.distance.std()\n",
    "pga.accuracy = (pga.accuracy - pga.accuracy.mean())/pga.accuracy.std()"
   ]
  },
  {
   "cell_type": "markdown",
   "metadata": {},
   "source": [
    "Function to determint the cost for a single variable for the linear model"
   ]
  },
  {
   "cell_type": "code",
   "execution_count": 3,
   "metadata": {
    "collapsed": true
   },
   "outputs": [],
   "source": [
    "def cost(theta0, theta1, x, y):\n",
    "    \n",
    "    J=0\n",
    "    # The number of observations\n",
    "    m = len(x)\n",
    "    # Loop through each observation\n",
    "    for i in range(m):\n",
    "        # Compute the hypothesis \n",
    "        h = theta1 * x[i] + theta0\n",
    "        # Add to cost\n",
    "        J += (h - y[i])**2\n",
    "    # Average and normalize cost\n",
    "    J /= (2*m)\n",
    "    return J"
   ]
  },
  {
   "cell_type": "markdown",
   "metadata": {},
   "source": [
    "Use the partial derivative of the cost to determine in which direction to update the values so that the cost is reduced"
   ]
  },
  {
   "cell_type": "code",
   "execution_count": 4,
   "metadata": {
    "collapsed": true
   },
   "outputs": [],
   "source": [
    "def partial_cost_theta1(theta0, theta1, x, y):\n",
    "    # Hypothesis\n",
    "    h = theta0 + theta1*x\n",
    "    # Hypothesis minus observed times x\n",
    "    diff = (h - y) * x\n",
    "    # Average to compute partial derivative\n",
    "    partial = diff.sum() / (x.shape[0])\n",
    "    return partial\n",
    "\n",
    "def partial_cost_theta0(theta0, theta1, x, y):\n",
    "    h = theta0 + theta1*x\n",
    "    diff = h - y \n",
    "    partial = diff.sum() / (x.shape[0])\n",
    "    return partial"
   ]
  },
  {
   "cell_type": "markdown",
   "metadata": {},
   "source": [
    "Gradient descent algorithm"
   ]
  },
  {
   "cell_type": "code",
   "execution_count": 5,
   "metadata": {
    "collapsed": false
   },
   "outputs": [
    {
     "name": "stdout",
     "output_type": "stream",
     "text": [
      "Conv degree: 0.0349269661155\n",
      "Conv degree: 0.0283226032499\n",
      "Conv degree: 0.022967063678\n",
      "Conv degree: 0.0186242065863\n",
      "Conv degree: 0.0151025431824\n",
      "Conv degree: 0.0122467934148\n",
      "Conv degree: 0.00993103923838\n",
      "Conv degree: 0.00805317253375\n",
      "Conv degree: 0.00653039287245\n",
      "Conv degree: 0.00529555661322\n",
      "Conv degree: 0.00429421634985\n",
      "Conv degree: 0.00348222017178\n",
      "Conv degree: 0.00282376488207\n",
      "Conv degree: 0.00228981733374\n",
      "Conv degree: 0.00185683427653\n",
      "Conv degree: 0.00150572426878\n",
      "Conv degree: 0.00122100588203\n",
      "Conv degree: 0.000990125081241\n",
      "Conv degree: 0.000802901682073\n",
      "Conv degree: 0.0006510804779\n",
      "Conv degree: 0.000527967244518\n",
      "Conv degree: 0.000428133572953\n",
      "Conv degree: 0.000347177515638\n",
      "Conv degree: 0.000281529492147\n",
      "Conv degree: 0.000228294896352\n",
      "Conv degree: 0.000185126465093\n",
      "Conv degree: 0.000150120780733\n",
      "Conv degree: 0.000121734344123\n",
      "Conv degree: 9.87155173766e-05\n",
      "Conv degree: 8.00493356345e-05\n",
      "Conv degree: 6.4912754406e-05\n",
      "Conv degree: 5.26383592211e-05\n",
      "Conv degree: 4.268493745e-05\n",
      "Conv degree: 3.46136147112e-05\n",
      "Conv degree: 2.8068503667e-05\n",
      "Conv degree: 2.2761011952e-05\n",
      "Conv degree: 1.84571173155e-05\n",
      "Conv degree: 1.49670489313e-05\n",
      "Conv degree: 1.21369198601e-05\n",
      "Conv degree: 9.8419417463e-06\n",
      "Conv degree: 7.98092254461e-06\n",
      "Conv degree: 6.471804681e-06\n",
      "Conv degree: 5.24804690116e-06\n",
      "Conv degree: 4.25569028034e-06\n",
      "Conv degree: 3.45097902182e-06\n",
      "Conv degree: 2.79843114165e-06\n",
      "Conv degree: 2.26927396707e-06\n",
      "Conv degree: 1.84017546823e-06\n",
      "Conv degree: 1.49221548573e-06\n",
      "Conv degree: 1.21005148329e-06\n",
      "Conv degree: 9.81242057219e-07\n",
      "Theta1 = -0.6064318711932262\n"
     ]
    }
   ],
   "source": [
    "def gradient_descent(x, y, alpha=0.1, theta0=0, theta1=0):\n",
    "    max_epochs = 1000 # Maximum number of iterations\n",
    "    counter = 0      \n",
    "    c = cost(theta1, theta0, pga.distance, pga.accuracy)  ## Initial cost\n",
    "    costs = [c]     \n",
    "    # Set a convergence threshold to prevent the program from running after it converges\n",
    "    convergence_thres = 0.000001  \n",
    "    cprev = c + 10   \n",
    "    theta0s = [theta0]\n",
    "    theta1s = [theta1]\n",
    "\n",
    "    # When the costs converge or we hit a large number of iterations will we stop updating\n",
    "    while (np.abs(cprev - c) > convergence_thres) and (counter < max_epochs):\n",
    "        cprev = c\n",
    "        # learning rate detemines the size of step we take once the direction (partial deriviative) is determined\n",
    "        update0 = alpha * partial_cost_theta0(theta0, theta1, x, y)\n",
    "        update1 = alpha * partial_cost_theta1(theta0, theta1, x, y)\n",
    "\n",
    "        # Update theta0 and theta1 at the same time to compute the slopes at the same set\n",
    "        # of hypothesised parameters. Update adter finding the partial derivaives\n",
    "        theta0 -= update0\n",
    "        theta1 -= update1\n",
    "        \n",
    "        # Store thetas\n",
    "        theta0s.append(theta0)\n",
    "        theta1s.append(theta1)\n",
    "        \n",
    "        # Compute the new cost\n",
    "        c = cost(theta0, theta1, pga.distance, pga.accuracy)\n",
    "\n",
    "        # Store updates\n",
    "        costs.append(c)\n",
    "        counter += 1   # Count\n",
    "        print(\"Conv degree:\", np.abs(cprev - c))\n",
    "\n",
    "    return {'theta0': theta0, 'theta1': theta1, \"costs\": costs}\n",
    "\n",
    "print(\"Theta1 =\", gradient_descent(pga.distance, pga.accuracy)['theta1'])\n",
    "\n"
   ]
  },
  {
   "cell_type": "code",
   "execution_count": 6,
   "metadata": {
    "collapsed": false
   },
   "outputs": [
    {
     "name": "stdout",
     "output_type": "stream",
     "text": [
      "Conv degree: 0.0349269661155\n",
      "Conv degree: 0.0283226032499\n",
      "Conv degree: 0.022967063678\n",
      "Conv degree: 0.0186242065863\n",
      "Conv degree: 0.0151025431824\n",
      "Conv degree: 0.0122467934148\n",
      "Conv degree: 0.00993103923838\n",
      "Conv degree: 0.00805317253375\n",
      "Conv degree: 0.00653039287245\n",
      "Conv degree: 0.00529555661322\n",
      "Conv degree: 0.00429421634985\n",
      "Conv degree: 0.00348222017178\n",
      "Conv degree: 0.00282376488207\n",
      "Conv degree: 0.00228981733374\n",
      "Conv degree: 0.00185683427653\n",
      "Conv degree: 0.00150572426878\n",
      "Conv degree: 0.00122100588203\n",
      "Conv degree: 0.000990125081241\n",
      "Conv degree: 0.000802901682073\n",
      "Conv degree: 0.0006510804779\n",
      "Conv degree: 0.000527967244518\n",
      "Conv degree: 0.000428133572953\n",
      "Conv degree: 0.000347177515638\n",
      "Conv degree: 0.000281529492147\n",
      "Conv degree: 0.000228294896352\n",
      "Conv degree: 0.000185126465093\n",
      "Conv degree: 0.000150120780733\n",
      "Conv degree: 0.000121734344123\n",
      "Conv degree: 9.87155173766e-05\n",
      "Conv degree: 8.00493356345e-05\n",
      "Conv degree: 6.4912754406e-05\n",
      "Conv degree: 5.26383592211e-05\n",
      "Conv degree: 4.268493745e-05\n",
      "Conv degree: 3.46136147112e-05\n",
      "Conv degree: 2.8068503667e-05\n",
      "Conv degree: 2.2761011952e-05\n",
      "Conv degree: 1.84571173155e-05\n",
      "Conv degree: 1.49670489313e-05\n",
      "Conv degree: 1.21369198601e-05\n",
      "Conv degree: 9.8419417463e-06\n",
      "Conv degree: 7.98092254461e-06\n",
      "Conv degree: 6.471804681e-06\n",
      "Conv degree: 5.24804690116e-06\n",
      "Conv degree: 4.25569028034e-06\n",
      "Conv degree: 3.45097902182e-06\n",
      "Conv degree: 2.79843114165e-06\n",
      "Conv degree: 2.26927396707e-06\n",
      "Conv degree: 1.84017546823e-06\n",
      "Conv degree: 1.49221548573e-06\n",
      "Conv degree: 1.21005148329e-06\n",
      "Conv degree: 9.81242057219e-07\n"
     ]
    }
   ],
   "source": [
    "grad_descent = gradient_descent(pga.distance, pga.accuracy, alpha = 0.1)\n",
    "x = [i for i in range(0,len(grad_descent['costs']))]\n",
    "y = grad_descent['costs']"
   ]
  },
  {
   "cell_type": "markdown",
   "metadata": {},
   "source": [
    "Display the results of our gradient descent"
   ]
  },
  {
   "cell_type": "code",
   "execution_count": 8,
   "metadata": {
    "collapsed": false
   },
   "outputs": [
    {
     "data": {
      "image/png": "[encoded data removed]",
      "text/plain": [
       "<matplotlib.figure.Figure at 0x118752f98>"
      ]
     },
     "metadata": {},
     "output_type": "display_data"
    }
   ],
   "source": [
    "plt.scatter(x,y)\n",
    "plt.title(\"Changing function cost during gradient descent\")\n",
    "plt.xlabel(\"Iteration Number\")\n",
    "plt.ylabel(\"Cost\")\n",
    "plt.show()"
   ]
  },
  {
   "cell_type": "code",
   "execution_count": null,
   "metadata": {
    "collapsed": true
   },
   "outputs": [],
   "source": []
  }
 ],
 "metadata": {
  "kernelspec": {
   "display_name": "Python 3",
   "language": "python",
   "name": "python3"
  },
  "language_info": {
   "codemirror_mode": {
    "name": "ipython",
    "version": 3
   },
   "file_extension": ".py",
   "mimetype": "text/x-python",
   "name": "python",
   "nbconvert_exporter": "python",
   "pygments_lexer": "ipython3",
   "version": "3.6.0"
  }
 },
 "nbformat": 4,
 "nbformat_minor": 2
}
