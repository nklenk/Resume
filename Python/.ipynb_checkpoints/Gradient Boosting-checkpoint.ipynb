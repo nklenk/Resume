{
 "cells": [
  {
   "cell_type": "markdown",
   "metadata": {},
   "source": [
    "# Gradient Boosting\n",
    "\n",
    "### Gradient boosting is a boosting method that combines a bunch of weak learners into a strong single learner. This is accomplished by adding an estimator h to provide a better model. Essentially, Fn+1(X) = Fn(x) + h(x) = y where h(x) is our estimator and is detemined by h(x) = y - Fn(x)\n"
   ]
  },
  {
   "cell_type": "code",
   "execution_count": 21,
   "metadata": {
    "collapsed": true
   },
   "outputs": [],
   "source": [
    "import numpy as np\n",
    "from sklearn.model_selection import train_test_split\n",
    "from sklearn.tree import DecisionTreeRegressor\n",
    "from sklearn.metrics import mean_squared_error\n",
    "from sklearn.datasets import make_moons\n",
    "\n",
    "# Generating a dataset\n",
    "X, y = make_moons(n_samples=10000, noise=0.4, random_state=42)\n",
    "\n",
    "# Splitting the dataset in to training and test samples\n",
    "X_train, X_test, y_train, y_test = train_test_split(X, y, test_size=0.25, random_state=42)"
   ]
  },
  {
   "cell_type": "markdown",
   "metadata": {},
   "source": [
    "## Creating and ensembel of 3 trees\n",
    "### Determining h1, h2, and h3 in Fn+1(X) = Fn(X)+h1(X)+h2(X)+h3(X)"
   ]
  },
  {
   "cell_type": "code",
   "execution_count": 22,
   "metadata": {},
   "outputs": [],
   "source": [
    "# Creating an ensemble of 3 trees\n",
    "tree_reg1 = DecisionTreeRegressor(max_depth=2)\n",
    "tree_reg1.fit(X_train, y_train)\n",
    "\n",
    "# Training a second DecisionTreeRegressor on the residual errors from the first predictor\n",
    "y2 = y_train - tree_reg1.predict(X_train)\n",
    "tree_reg2 = DecisionTreeRegressor(max_depth=2)\n",
    "tree_reg2.fit(X_train, y2)\n",
    "\n",
    "# Training a third DecisionTreeRegressor on the residuals made by the second predictor\n",
    "y3 = y2 - tree_reg2.predict(X_train)\n",
    "tree_reg3 = DecisionTreeRegressor(max_depth=2)\n",
    "tree_reg3.fit(X_train, y3)\n",
    "\n",
    "# Make predictions on new instances by adding up all of the predictions of all the trees\n",
    "y_pred_manual = sum(tree.predict(X_test) for tree in (tree_reg1, tree_reg2, tree_reg3))\n"
   ]
  },
  {
   "cell_type": "markdown",
   "metadata": {},
   "source": [
    "## Same as above, but using the GradientBoostingRegressor function in sklearn rather than code it manually "
   ]
  },
  {
   "cell_type": "code",
   "execution_count": 23,
   "metadata": {
    "collapsed": true
   },
   "outputs": [],
   "source": [
    "from sklearn.ensemble import GradientBoostingRegressor\n",
    "\n",
    "gbrt = GradientBoostingRegressor(max_depth=2, n_estimators=120, learning_rate=1.0)\n",
    "gbrt.fit(X_train, y_train)\n",
    "y_pred = gbrt.predict(X_test)\n"
   ]
  },
  {
   "cell_type": "markdown",
   "metadata": {},
   "source": [
    "## Optimizing the number of estimators to be used"
   ]
  },
  {
   "cell_type": "code",
   "execution_count": 24,
   "metadata": {},
   "outputs": [],
   "source": [
    "# Staged_predict yields the score after each iteration of boosting (num of trees)\n",
    "errors = [mean_squared_error(y_test, y_pred) for y_pred in gbrt.staged_predict(X_test)]\n",
    "# list location 0 -> 1 tree\n",
    "best_n_estimator = np.argmin(errors) + 1\n",
    "\n",
    "# creating a new regressor, but with the optimum number of trees\n",
    "gbrt_best = GradientBoostingRegressor(max_depth=2, n_estimators=best_n_estimator, learning_rate=1.0)\n",
    "gbrt_best.fit(X_train, y_train)\n",
    "y_pred_best = gbrt_best.predict(X_test)"
   ]
  },
  {
   "cell_type": "markdown",
   "metadata": {},
   "source": [
    "## Results"
   ]
  },
  {
   "cell_type": "code",
   "execution_count": 25,
   "metadata": {},
   "outputs": [
    {
     "name": "stdout",
     "output_type": "stream",
     "text": [
      "MSE_manual:  0.108687010459\n",
      "MSE:  0.114829985941\n",
      "MSE_best:  0.114829985941\n",
      "best_n_estimator:  2\n"
     ]
    }
   ],
   "source": [
    "print(\"MSE_manual: \", mean_squared_error(y_test, y_pred_manual))\n",
    "print(\"MSE: \", mean_squared_error(y_test, y_pred))\n",
    "print(\"MSE_best: \", mean_squared_error(y_test, y_pred_best))\n",
    "print(\"best_n_estimator: \", best_n_estimator)"
   ]
  },
  {
   "cell_type": "code",
   "execution_count": 26,
   "metadata": {
    "collapsed": true
   },
   "outputs": [],
   "source": [
    "### The manual implementation has the worst MSE because it does not benefit from "
   ]
  }
 ],
 "metadata": {
  "kernelspec": {
   "display_name": "Python 3",
   "language": "python",
   "name": "python3"
  },
  "language_info": {
   "codemirror_mode": {
    "name": "ipython",
    "version": 3
   },
   "file_extension": ".py",
   "mimetype": "text/x-python",
   "name": "python",
   "nbconvert_exporter": "python",
   "pygments_lexer": "ipython3",
   "version": "3.6.1"
  }
 },
 "nbformat": 4,
 "nbformat_minor": 2
}
