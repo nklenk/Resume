{
 "cells": [
  {
   "cell_type": "markdown",
   "metadata": {},
   "source": [
    "# Random Forest Classifiers\n",
    "\n",
    "## These are an ensemble method that functions by creating a certain number of decision trees during training, then outputs the class that is the mode of the classes\n"
   ]
  },
  {
   "cell_type": "code",
   "execution_count": 11,
   "metadata": {
    "collapsed": true
   },
   "outputs": [],
   "source": [
    "from sklearn.tree import DecisionTreeClassifier, export_graphviz\n",
    "from sklearn.model_selection import train_test_split, GridSearchCV, ShuffleSplit\n",
    "from sklearn.datasets import make_moons\n",
    "from sklearn.metrics import accuracy_score\n",
    "from sklearn.base import clone\n",
    "from scipy.stats import mode\n",
    "\n",
    "import numpy as np\n",
    "\n",
    "# Generating a dataset\n",
    "X, y = make_moons(n_samples=10000, noise=0.4, random_state=42)\n",
    "\n",
    "# Splitting the dataset in to training and test samples\n",
    "X_train, X_test, y_train, y_test = train_test_split(X, y, test_size=0.25, random_state=42)\n"
   ]
  },
  {
   "cell_type": "markdown",
   "metadata": {},
   "source": [
    "## Trying out a bunch of different parameter values via the grid_search_cv function to determine the best combination. Those parameters will then be used to create a singe decision tree"
   ]
  },
  {
   "cell_type": "code",
   "execution_count": 12,
   "metadata": {},
   "outputs": [
    {
     "name": "stdout",
     "output_type": "stream",
     "text": [
      "Fitting 3 folds for each of 294 candidates, totalling 882 fits\n",
      "Decision Tree Accuracy:  0.8648\n"
     ]
    },
    {
     "name": "stderr",
     "output_type": "stream",
     "text": [
      "[Parallel(n_jobs=-1)]: Done 882 out of 882 | elapsed:    1.6s finished\n"
     ]
    }
   ],
   "source": [
    "\n",
    "# Parameters that we would like to try out to get the best decision tree splits\n",
    "params = {'max_leaf_nodes': list(range(2,100)), 'min_samples_split': [2, 3, 4]}\n",
    "\n",
    "# Setting up our cross validation against all parameter options\n",
    "# Scoring provided by the DecisionTreeClassifier method\n",
    "# n_jobs=-1 to run in paralell over all avaliabel cores\n",
    "grid_search_cv = GridSearchCV(DecisionTreeClassifier(random_state=1), params, n_jobs=-1, verbose=1)\n",
    "\n",
    "# evaluating all parameter combinations on the trainig data to determin the best combination\n",
    "grid_search_cv.fit(X_train, y_train)\n",
    "\n",
    "# The best estimator detetrmined by grid_search_cv\n",
    "grid_search_cv.best_estimator_\n",
    "\n",
    "# Testing out the resulting descions tree\n",
    "y_pred = grid_search_cv.predict(X_test)\n",
    "accuracy = accuracy_score(y_test, y_pred)\n",
    "\n",
    "# 85.6% accuracy for this model\n",
    "print(\"Decision Tree Accuracy: \", accuracy)"
   ]
  },
  {
   "cell_type": "markdown",
   "metadata": {},
   "source": [
    "## using subsets of the training data to create a random forest by training a decision tree on each subset of data. The model that creates the most common (mode) prediction is then chosen. The optimum parameters found previously are also used"
   ]
  },
  {
   "cell_type": "code",
   "execution_count": 13,
   "metadata": {},
   "outputs": [
    {
     "name": "stdout",
     "output_type": "stream",
     "text": [
      "Average accuracy across all trees:  0.7948172\n",
      "Manual Forest Accuracy:  0.8676\n"
     ]
    }
   ],
   "source": [
    "# Generating 1000 subsets of the training data, each with 100 different train instances\n",
    "subsets = []\n",
    "n_trees = 1000\n",
    "rs = ShuffleSplit(n_splits=n_trees, test_size=len(X_train)-100, random_state=42)\n",
    "\n",
    "for train_index_subset, test_index_subset in rs.split(X_train):\n",
    "    X_train_subset = X_train[train_index_subset]\n",
    "    y_train_subset = y_train[train_index_subset]\n",
    "    subsets.append([X_train_subset, y_train_subset])\n",
    "\n",
    "# create a forest of estimators, one for each tree\n",
    "forest = [clone(grid_search_cv.best_estimator_) for _ in range(n_trees)]\n",
    "total_accuracy = []\n",
    "\n",
    "for tree, (X_train_subset, y_train_subset) in zip(forest, subsets):\n",
    "    tree.fit(X_train_subset, y_train_subset)\n",
    "    y_pred = tree.predict(X_test)\n",
    "    total_accuracy.append(accuracy_score(y_test, y_pred))\n",
    "\n",
    "avg_accuracy = np.mean(total_accuracy)\n",
    "print(\"Average accuracy across all trees: \", avg_accuracy)\n",
    "\n",
    "\n",
    "y_pred = np.empty([n_trees, len(X_test)], dtype=np.uint8)\n",
    "for tree_index, tree in enumerate(forest):\n",
    "    y_pred[tree_index] = tree.predict(X_test)\n",
    "\n",
    "#find the modal (most common) prediction from the 1000 decision trees\n",
    "y_pred_majority_votes, n_votes = mode(y_pred, axis=0)\n",
    "\n",
    "#accuracy score for the\n",
    "print(\"Manual Forest Accuracy: \", accuracy_score(y_test, y_pred_majority_votes.reshape([-1])))\n"
   ]
  },
  {
   "cell_type": "markdown",
   "metadata": {},
   "source": [
    "## The fast way using the RandomForestClassifier function. Automates what occured above"
   ]
  },
  {
   "cell_type": "code",
   "execution_count": 14,
   "metadata": {},
   "outputs": [
    {
     "name": "stdout",
     "output_type": "stream",
     "text": [
      "Random Forest Classifier Accuracy:  0.8624\n"
     ]
    }
   ],
   "source": [
    "\n",
    "# Practical way to do random forest classification\n",
    "from sklearn.ensemble import RandomForestClassifier\n",
    "\n",
    "rnd_clf = RandomForestClassifier(n_estimators=1000, max_leaf_nodes=16, n_jobs=-1)\n",
    "rnd_clf.fit(X_train, y_train)\n",
    "\n",
    "y_pred = rnd_clf.predict(X_test)\n",
    "print(\"Random Forest Classifier Accuracy: \", accuracy_score(y_test, y_pred))"
   ]
  }
 ],
 "metadata": {
  "kernelspec": {
   "display_name": "Python 3",
   "language": "python",
   "name": "python3"
  },
  "language_info": {
   "codemirror_mode": {
    "name": "ipython",
    "version": 3
   },
   "file_extension": ".py",
   "mimetype": "text/x-python",
   "name": "python",
   "nbconvert_exporter": "python",
   "pygments_lexer": "ipython3",
   "version": "3.6.1"
  }
 },
 "nbformat": 4,
 "nbformat_minor": 2
}
