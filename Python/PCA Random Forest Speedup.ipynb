{
 "cells": [
  {
   "cell_type": "markdown",
   "metadata": {},
   "source": [
    "# Reducing the dimensionality of the dataset using PCA will spead up the computations, but can also cost us some accuracy\n",
    "## Below, a random forest classifier is trained first on the full dataset, then on the dimensionally reduced dataset. The accuracy for each method is then compared.  "
   ]
  },
  {
   "cell_type": "code",
   "execution_count": 20,
   "metadata": {
    "collapsed": true
   },
   "outputs": [],
   "source": [
    "from sklearn.ensemble import RandomForestClassifier\n",
    "from sklearn.tree import export_graphviz\n",
    "from sklearn.model_selection import train_test_split\n",
    "from sklearn.datasets import make_moons\n",
    "from sklearn.metrics import accuracy_score\n",
    "from sklearn.decomposition import PCA\n",
    "import time\n",
    "\n",
    "# Generating a dataset\n",
    "X, y = make_moons(n_samples=10000, noise=0.4, random_state=42)\n",
    "\n",
    "# Splitting the dataset in to training and test samples\n",
    "X_train, X_test, y_train, y_test = train_test_split(X, y, test_size=0.25, random_state=42)"
   ]
  },
  {
   "cell_type": "markdown",
   "metadata": {},
   "source": [
    "## Training the classifier on the original dataset"
   ]
  },
  {
   "cell_type": "code",
   "execution_count": 21,
   "metadata": {},
   "outputs": [
    {
     "name": "stdout",
     "output_type": "stream",
     "text": [
      "Random Forest Classifier Accuracy:  0.864\n",
      "Training time: 0.965 Sec\n"
     ]
    }
   ],
   "source": [
    "# Fitting a random foresst classifier\n",
    "rnd_clf = RandomForestClassifier(n_estimators=500, max_leaf_nodes=16, n_jobs=-1)\n",
    "t0 = time.time()\n",
    "rnd_clf.fit(X_train, y_train)\n",
    "t1 = time.time()\n",
    "time1 = t1-t0\n",
    "\n",
    "#Making a prediction using the fitted random forest classifier\n",
    "y_pred = rnd_clf.predict(X_test)\n",
    "print(\"Random Forest Classifier Accuracy: \", accuracy_score(y_test, y_pred))\n",
    "print(\"Training time: {:.3f} Sec\".format(time1))\n",
    "\n"
   ]
  },
  {
   "cell_type": "markdown",
   "metadata": {},
   "source": [
    "## Reducing the dimensionality of the dataset, then training the classifier"
   ]
  },
  {
   "cell_type": "code",
   "execution_count": 22,
   "metadata": {},
   "outputs": [
    {
     "name": "stdout",
     "output_type": "stream",
     "text": [
      "Random Forest Classifier on a dimensionally reduced feature set:  0.8104\n",
      "Training time with PCA: 1.071 Sec\n"
     ]
    }
   ],
   "source": [
    "# Reducing the dataset dimensionality, but only so much that 95% of the variance is retained\n",
    "PCA_var = PCA(n_components=.95)\n",
    "X_reduced = PCA_var.fit_transform(X)\n",
    "\n",
    "# Splitting the newly dimensionally reduced X and y values into train/test subsets\n",
    "X_red_train, X_red_test, y_train, y_test = train_test_split(X_reduced, y, test_size=0.25, random_state=42)\n",
    "\n",
    "# Using the random forest classifier on the dimensionally reduced feature set\n",
    "rnd_clf_2 = RandomForestClassifier(n_estimators=500, max_leaf_nodes=16, n_jobs=-1)\n",
    "t0 = time.time()\n",
    "rnd_clf_2.fit(X_red_train, y_train)\n",
    "t1 = time.time()\n",
    "time2 = t1-t0\n",
    "\n",
    "# Making a new predictions\n",
    "y_red_pred = rnd_clf.predict(X_red_test)\n",
    "print(\"Random Forest Classifier on a dimensionally reduced feature set: \", accuracy_score(y_test, y_red_pred))\n",
    "print(\"Training time with PCA: {:.3f} Sec\".format(time2))"
   ]
  },
  {
   "cell_type": "markdown",
   "metadata": {},
   "source": [
    "## In this case, the speedup of approxmiately .02 seconds from the dimensionality reduction cost us about 5% accuracy"
   ]
  }
 ],
 "metadata": {
  "kernelspec": {
   "display_name": "Python 3",
   "language": "python",
   "name": "python3"
  },
  "language_info": {
   "codemirror_mode": {
    "name": "ipython",
    "version": 3
   },
   "file_extension": ".py",
   "mimetype": "text/x-python",
   "name": "python",
   "nbconvert_exporter": "python",
   "pygments_lexer": "ipython3",
   "version": "3.6.1"
  }
 },
 "nbformat": 4,
 "nbformat_minor": 2
}
